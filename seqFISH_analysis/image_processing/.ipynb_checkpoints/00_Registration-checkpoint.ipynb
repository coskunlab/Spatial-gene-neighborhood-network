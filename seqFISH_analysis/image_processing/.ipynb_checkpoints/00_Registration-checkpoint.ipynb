{
 "cells": [
  {
   "cell_type": "code",
   "execution_count": 3,
   "id": "7a270c2f-51cb-4e4c-87b3-9d9244100120",
   "metadata": {},
   "outputs": [],
   "source": [
    "import cv2\n",
    "import numpy as np\n",
    "import tifffile\n",
    "from skimage.registration import phase_cross_correlation\n",
    "from skimage.exposure import rescale_intensity\n",
    "from skimage.filters import gaussian\n",
    "from skimage.util import img_as_uint\n",
    "from skimage.transform import warp_polar, rotate\n",
    "from skimage.feature import match_template\n",
    "\n",
    "from skimage.filters import threshold_otsu\n",
    "from tqdm import tqdm\n",
    "\n",
    "from joblib import Parallel, delayed\n",
    "\n",
    "import os"
   ]
  },
  {
   "cell_type": "code",
   "execution_count": 4,
   "id": "92ea0fe6-f663-47f2-af4d-570509bb5c52",
   "metadata": {},
   "outputs": [],
   "source": [
    "folder_to_process = ('01_', '03_', '05_', '07_', '09_', '11_')\n",
    "in_dir = r'Y:\\\\coskun-lab\\\\Zhou\\\\4_HCR\\\\20210507_cytokines\\\\uc'\n",
    "out_dir = r'Y:\\\\coskun-lab\\\\Zhou\\\\4_HCR\\\\20210507_cytokines\\\\uc\\\\00_registered_images\\\\v3'"
   ]
  },
  {
   "cell_type": "code",
   "execution_count": 5,
   "id": "9993baf2-6742-4551-8bdc-3cab16e802ff",
   "metadata": {},
   "outputs": [],
   "source": [
    "def register_imgs(ims):\n",
    "    # This function takes a list of image stacks, and takes the first image in the stack as a registration references\n",
    "    \n",
    "    for i in range(len(ims)-1,0,-1):\n",
    "        \n",
    "        # Find translational shift\n",
    "        move = ims[i][:,:,0]\n",
    "        station = ims[i-1][:,:,0]\n",
    "\n",
    "        shift, _, _ = phase_cross_correlation(station, move)\n",
    "        shift = shift.astype('int')\n",
    "\n",
    "        if shift[0] < 0:\n",
    "            for m in range(i,len(ims)):\n",
    "                ims[m] = ims[m][-shift[0]:,:,:]\n",
    "            for n in range(i):\n",
    "                ims[n] = ims[n][:ims[i].shape[0],:,:]\n",
    "        if shift[0] > 0:\n",
    "            for n in range(i):\n",
    "                ims[n] = ims[n][shift[0]:,:,:]\n",
    "            for m in range(i,len(ims)):\n",
    "                ims[m] = ims[m][:ims[i-1].shape[0],:,:]\n",
    "\n",
    "        if shift[1] < 0:\n",
    "            for m in range(i,len(ims)):\n",
    "                ims[m] = ims[m][:,-shift[1]:,:]\n",
    "            for n in range(i):\n",
    "                ims[n] = ims[n][:,:ims[i].shape[1],:]\n",
    "        if shift[1] > 0:\n",
    "            for n in range(i):\n",
    "                ims[n] = ims[n][:,shift[1]:,:]\n",
    "            for m in range(i,len(ims)):\n",
    "                ims[m] = ims[m][:,:ims[i-1].shape[1],:]\n",
    "        \n",
    "    # Find rotation shift between last cycle\n",
    "    \"\"\"\n",
    "    station = ims[len(ims)-2][:,:,0]\n",
    "    move = ims[len(ims)-1][:,:,0]\n",
    "    \n",
    "    radius = 750\n",
    "\n",
    "    move_polar = warp_polar(move, radius = radius)\n",
    "    station_polar = warp_polar(station, radius = radius)\n",
    "\n",
    "    polar_shift,_,_ = phase_cross_correlation(move_polar, station_polar)\n",
    "    angle = polar_shift[0]\n",
    "    \n",
    "    ims[len(ims)-1] = rotate(ims[len(ims)-1], angle=angle)\n",
    "    \"\"\"\n",
    "    \n",
    "    new_ims = Parallel(n_jobs=4)(delayed(img_as_uint)(i) for i in zip(ims))\n",
    "\n",
    "    return new_ims"
   ]
  },
  {
   "cell_type": "code",
   "execution_count": 6,
   "id": "783e2deb-5e1e-4826-8886-c2c793e82cd2",
   "metadata": {},
   "outputs": [],
   "source": [
    "def reg_reference(ims):\n",
    "    # This function takes a list of image stacks, and return a list of registration references\n",
    "    \n",
    "    new_ims = []\n",
    "    for i in range(len(ims)):\n",
    "        rescaled = rescale_intensity(ims[i])\n",
    "        new_im = np.max(rescaled, axis=2)\n",
    "        blurred = img_as_uint(gaussian(new_im))\n",
    "        new_ims.append(rescale_intensity(blurred))\n",
    "    return new_ims"
   ]
  },
  {
   "cell_type": "code",
   "execution_count": 7,
   "id": "8c52f020-f597-4e17-84d1-fe2d4c6bf65f",
   "metadata": {},
   "outputs": [
    {
     "data": {
      "text/plain": [
       "{'cycle1': ['il8', 'il6', 'ccl11'],\n",
       " 'cycle2': ['sox9', 'col1a1', 'actb'],\n",
       " 'cycle3': ['empty', 'eef2', 'spp1'],\n",
       " 'cycle4': ['empty', 'runx1', 'pdl1'],\n",
       " 'cycle5': ['empty', 'gapdh', 'nanog'],\n",
       " 'cycle6': ['ConA', 'PhA', 'WGA']}"
      ]
     },
     "execution_count": 7,
     "metadata": {},
     "output_type": "execute_result"
    }
   ],
   "source": [
    "gene_dict = {}\n",
    "l = os.listdir(in_dir)\n",
    "l.sort()\n",
    "for n in l:\n",
    "    temp = n.split('_')\n",
    "    idx = np.nan\n",
    "    try:\n",
    "        idx = folder_to_process.index(temp[0]+'_')\n",
    "    except ValueError:\n",
    "        pass\n",
    "    if idx == idx:\n",
    "        cycle_name = 'cycle' + str(idx+1)\n",
    "        gene_dict[cycle_name] = temp[1:]\n",
    "gene_dict['cycle1'] = ['il8', 'il6', 'ccl11']\n",
    "gene_dict['cycle3'] = ['empty'] + gene_dict['cycle3']\n",
    "gene_dict['cycle4'] = ['empty'] + gene_dict['cycle4']\n",
    "gene_dict['cycle5'] = ['empty'] + gene_dict['cycle5']\n",
    "gene_dict['cycle6'] = ['ConA', 'PhA', 'WGA']\n",
    "# gene_dict['cycle7'] = ['ConA', 'PhA', 'WGA']\n",
    "gene_dict"
   ]
  },
  {
   "cell_type": "code",
   "execution_count": 62,
   "id": "fc8555e1-38ce-4982-ac82-62813b718c62",
   "metadata": {},
   "outputs": [
    {
     "name": "stdout",
     "output_type": "stream",
     "text": [
      "Y:\\\\coskun-lab\\\\Zhou\\\\4_HCR\\\\20210507_cytokines\\\\uc\\11_segmentation\\processed_images\n"
     ]
    }
   ],
   "source": [
    "rois = []\n",
    "for n in l:\n",
    "    if n.startswith('11_'):\n",
    "        path = os.path.join(in_dir, n, 'processed_images')\n",
    "        print(path)\n",
    "        rois = os.listdir(path)\n",
    "rois.sort()\n",
    "home_dir = os.getcwd()\n",
    "os.chdir(os.path.join(out_dir))\n",
    "for roi in rois:\n",
    "    os.mkdir(roi)\n",
    "os.chdir(home_dir)"
   ]
  },
  {
   "cell_type": "code",
   "execution_count": 63,
   "id": "de7c9291-7abe-47e2-9544-07b73377e6be",
   "metadata": {},
   "outputs": [
    {
     "data": {
      "text/plain": [
       "'Y:\\\\coskun-lab\\\\Zhou\\\\4_HCR\\\\20210614_hchCulture\\\\00_software'"
      ]
     },
     "execution_count": 63,
     "metadata": {},
     "output_type": "execute_result"
    }
   ],
   "source": [
    "# Run this block if previous block didn't get to os.chdir(home_dir)\n",
    "os.chdir(home_dir)\n",
    "os.getcwd()"
   ]
  },
  {
   "cell_type": "code",
   "execution_count": 77,
   "id": "94186251-1a07-432e-b355-30b4a07a6b4f",
   "metadata": {},
   "outputs": [
    {
     "name": "stderr",
     "output_type": "stream",
     "text": [
      "100%|██████████████████████████████████████████████████████████████████████████████████| 90/90 [17:25<00:00, 11.62s/it]\n"
     ]
    }
   ],
   "source": [
    "# Run this block if no segmentation is given\n",
    "for i in tqdm(range(len(rois))):\n",
    "    im_l = []\n",
    "    roi = rois[i]\n",
    "    for n in l:\n",
    "        temp = n.split('_')\n",
    "        roi_l = []\n",
    "        if temp[0]+'_' in folder_to_process:\n",
    "            path = os.path.join(in_dir, n, 'processed_images', roi)\n",
    "            imn_l = os.listdir(path)\n",
    "            imn_l.sort()\n",
    "            for imn in imn_l:\n",
    "                if imn.startswith('MAX'):\n",
    "                    roi_l.append(tifffile.imread(os.path.join(path, imn)))\n",
    "                if n.startswith('cycle1') and imn.startswith('cell'):\n",
    "                    roi_l.append(tifffile.imread(os.path.join(path, imn)).astype('uint16'))\n",
    "            if len(roi_l) == 0:\n",
    "                continue\n",
    "            roi_stack = np.dstack(tuple(roi_l))\n",
    "            im_l.append(roi_stack)\n",
    "        \n",
    "    registered_im_l = register_imgs(im_l)\n",
    "    \n",
    "    keys = list(gene_dict.keys())\n",
    "    name_l = []\n",
    "    for j in range(len(keys)):\n",
    "        key = keys[j]\n",
    "        out_name = key+'_'+gene_dict[key][0]+'_'+gene_dict[key][1]+'_'+gene_dict[key][2]+'_'+roi+'.tif'\n",
    "        name_l.append(os.path.join(out_dir, roi, out_name))\n",
    "    Parallel(n_jobs=4)(delayed(tifffile.imsave)(j, i) for i,j in zip(registered_im_l, name_l))"
   ]
  },
  {
   "cell_type": "code",
   "execution_count": 64,
   "id": "14fb25bf-cccb-4c20-b3f2-fb4fda3cfe6d",
   "metadata": {},
   "outputs": [
    {
     "name": "stderr",
     "output_type": "stream",
     "text": [
      "100%|██████████████████████████████████████████████████████████████████████████████████| 27/27 [04:50<00:00, 10.77s/it]\n"
     ]
    }
   ],
   "source": [
    "# Run this block if segmentation is given along slide cycle 1 images\n",
    "for i in tqdm(range(len(rois))):\n",
    "    im_l = []\n",
    "    roi = rois[i]\n",
    "    for n in l:\n",
    "        temp = n.split('_')\n",
    "        roi_l = []\n",
    "        if temp[0]+'_' in folder_to_process:\n",
    "            path = os.path.join(in_dir, n, 'processed_images', roi)\n",
    "            imn_l = os.listdir(path)\n",
    "            imn_l.sort()\n",
    "            for imn in imn_l:\n",
    "                if imn.startswith('MAX'):\n",
    "                    roi_l.append(tifffile.imread(os.path.join(path, imn)))\n",
    "                if n.startswith('01') and imn.startswith('cell'):\n",
    "                    roi_l.append(tifffile.imread(os.path.join(path, imn)).astype('uint16'))\n",
    "            if len(roi_l) == 0:\n",
    "                continue\n",
    "            roi_stack = np.dstack(tuple(roi_l))\n",
    "            im_l.append(roi_stack)\n",
    "\n",
    "    registered_im_l = register_imgs(im_l)\n",
    "    masks = []\n",
    "    for i in range(4,registered_im_l[0].shape[3]):\n",
    "        masks.append(registered_im_l[0][:,:,:,i])\n",
    "    registered_im_l[0] = registered_im_l[0][:,:,:,:4]\n",
    "\n",
    "    keys = list(gene_dict.keys())\n",
    "    name_l = []\n",
    "    for j in range(len(keys)):\n",
    "        key = keys[j]\n",
    "        out_name = key+'_'+gene_dict[key][0]+'_'+gene_dict[key][1]+'_'+gene_dict[key][2]+'_'+roi+'.tif'\n",
    "        name_l.append(os.path.join(out_dir, roi, out_name))\n",
    "    Parallel(n_jobs=4)(delayed(tifffile.imsave)(j, i) for i,j in zip(registered_im_l, name_l))\n",
    "    mask_name_l = []\n",
    "    for j in range(len(masks)):\n",
    "        out_name = 'cell'+str(j+1) +'_Mask.tif'\n",
    "        mask_name_l.append(os.path.join(out_dir, roi, out_name))\n",
    "        masks[j] = masks[j].astype('uint8')\n",
    "    Parallel(n_jobs=4)(delayed(tifffile.imsave)(j, i) for i,j in zip(masks, mask_name_l))"
   ]
  },
  {
   "cell_type": "code",
   "execution_count": 51,
   "id": "bb3dee03-178d-44f0-8d2b-f41b71b95968",
   "metadata": {},
   "outputs": [
    {
     "data": {
      "text/plain": [
       "'052'"
      ]
     },
     "execution_count": 51,
     "metadata": {},
     "output_type": "execute_result"
    }
   ],
   "source": [
    "roi"
   ]
  },
  {
   "cell_type": "code",
   "execution_count": 8,
   "id": "664877f6-0316-41b2-a47c-c532c9e32b68",
   "metadata": {},
   "outputs": [
    {
     "data": {
      "text/plain": [
       "[None]"
      ]
     },
     "execution_count": 8,
     "metadata": {},
     "output_type": "execute_result"
    }
   ],
   "source": [
    "# run this block if a ROI needs to be registered separately\n",
    "im_l = []\n",
    "# roi = rois[i]\n",
    "roi = '006'\n",
    "for n in l:\n",
    "    temp = n.split('_')\n",
    "    roi_l = []\n",
    "    if temp[0]+'_' in folder_to_process:\n",
    "        path = os.path.join(in_dir, n, 'processed_images', roi)\n",
    "        imn_l = os.listdir(path)\n",
    "        imn_l.sort()\n",
    "        for imn in imn_l:\n",
    "            if imn.startswith('MAX'):\n",
    "                roi_l.append(tifffile.imread(os.path.join(path, imn)))\n",
    "            if n.startswith('01') and imn.startswith('cell'):\n",
    "                roi_l.append(tifffile.imread(os.path.join(path, imn)).astype('uint16'))\n",
    "        if len(roi_l) == 0:\n",
    "            continue\n",
    "        roi_stack = np.dstack(tuple(roi_l))\n",
    "        im_l.append(roi_stack)\n",
    "\n",
    "registered_im_l = register_imgs(im_l)\n",
    "masks = []\n",
    "for i in range(4,registered_im_l[0].shape[3]):\n",
    "    masks.append(registered_im_l[0][:,:,:,i])\n",
    "registered_im_l[0] = registered_im_l[0][:,:,:,:4]\n",
    "\n",
    "keys = list(gene_dict.keys())\n",
    "name_l = []\n",
    "for j in range(len(keys)):\n",
    "    key = keys[j]\n",
    "    out_name = key+'_'+gene_dict[key][0]+'_'+gene_dict[key][1]+'_'+gene_dict[key][2]+'_'+roi+'.tif'\n",
    "    name_l.append(os.path.join(out_dir, roi, out_name))\n",
    "Parallel(n_jobs=4)(delayed(tifffile.imsave)(j, i) for i,j in zip(registered_im_l, name_l))\n",
    "mask_name_l = []\n",
    "for j in range(len(masks)):\n",
    "    out_name = 'cell'+str(j+1) +'_Mask.tif'\n",
    "    mask_name_l.append(os.path.join(out_dir, roi, out_name))\n",
    "    masks[j] = masks[j].astype('uint8')\n",
    "Parallel(n_jobs=4)(delayed(tifffile.imsave)(j, i) for i,j in zip(masks, mask_name_l))"
   ]
  },
  {
   "cell_type": "code",
   "execution_count": null,
   "id": "83c65277-9871-4e58-8fdb-3183a8b5db89",
   "metadata": {},
   "outputs": [],
   "source": []
  }
 ],
 "metadata": {
  "kernelspec": {
   "display_name": "Python 3 (ipykernel)",
   "language": "python",
   "name": "python3"
  },
  "language_info": {
   "codemirror_mode": {
    "name": "ipython",
    "version": 3
   },
   "file_extension": ".py",
   "mimetype": "text/x-python",
   "name": "python",
   "nbconvert_exporter": "python",
   "pygments_lexer": "ipython3",
   "version": "3.8.12"
  }
 },
 "nbformat": 4,
 "nbformat_minor": 5
}
