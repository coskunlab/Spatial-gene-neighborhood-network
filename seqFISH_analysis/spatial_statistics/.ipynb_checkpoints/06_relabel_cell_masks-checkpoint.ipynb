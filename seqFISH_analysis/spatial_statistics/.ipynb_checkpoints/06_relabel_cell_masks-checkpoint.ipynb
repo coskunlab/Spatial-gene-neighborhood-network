{
 "cells": [
  {
   "cell_type": "markdown",
   "id": "ab70c71b-6c00-4f12-8b99-58a9cfdbaa70",
   "metadata": {},
   "source": [
    "# Copy and relabel cell masks. Preserve cell count among FOVs"
   ]
  },
  {
   "cell_type": "code",
   "execution_count": 1,
   "id": "bac5c629-077a-4572-8162-354907b18810",
   "metadata": {},
   "outputs": [],
   "source": [
    "import numpy as np\n",
    "import pandas as pd\n",
    "import matplotlib.pyplot as plt\n",
    "import os\n",
    "import sys\n",
    "from tqdm import tqdm, trange\n",
    "import glob\n",
    "import shutil\n",
    "from skimage.io import imread\n",
    "import tifffile as tf"
   ]
  },
  {
   "cell_type": "markdown",
   "id": "57b55303-375c-40e5-b1f3-7a8cdf6d65aa",
   "metadata": {},
   "source": [
    "# directories and inputs"
   ]
  },
  {
   "cell_type": "code",
   "execution_count": 2,
   "id": "cededaed-25ab-431e-bdbb-8cfe8afa9b1b",
   "metadata": {},
   "outputs": [],
   "source": [
    "# read in PKL files of data\n",
    "dataPath = r\"..\\results\\spatial_statistics\"\n",
    "\n",
    "# folder paths for cell masks\n",
    "maskPaths = []\n",
    "maskPaths.append(r\"..\\images\\HBM\\registered\")\n",
    "maskPaths.append(r\"..\\images\\HUC\\registered\")\n",
    "maskPaths.append(r\"..\\images\\HCH\\registered\")\n",
    "cwd = os.getcwd()\n",
    "\n",
    "copyPath = r\"..\\results\\spatial_statistics\\06 relabeled cell masks\" # folder with exported relabeled cell data"
   ]
  },
  {
   "cell_type": "markdown",
   "id": "c47a76e7-ef20-4b97-84e6-240ece9ef70d",
   "metadata": {},
   "source": [
    "# read combined dataframe"
   ]
  },
  {
   "cell_type": "code",
   "execution_count": 3,
   "id": "fd054fa5-3245-4a8d-8031-d3507b52b031",
   "metadata": {},
   "outputs": [
    {
     "name": "stdout",
     "output_type": "stream",
     "text": [
      "Wall time: 2.53 s\n"
     ]
    }
   ],
   "source": [
    "%%time\n",
    "\n",
    "os.chdir(dataPath)\n",
    "\n",
    "distCenters = pd.read_pickle('03_spots_wt_distCenters.pkl')\n",
    "\n",
    "idCols = ['CellY', 'CellX', 'FOV', 'CellLabel', 'TissueSource']"
   ]
  },
  {
   "cell_type": "markdown",
   "id": "021d7552-d087-4165-a957-4a840b9de952",
   "metadata": {},
   "source": [
    "# Read all mask images and copy to output folder"
   ]
  },
  {
   "cell_type": "code",
   "execution_count": 4,
   "id": "7d70059c-6dd8-4d0a-bf1b-4e75cdcf3bdc",
   "metadata": {},
   "outputs": [
    {
     "name": "stderr",
     "output_type": "stream",
     "text": [
      "100%|██████████████████████████████████████████████████████████████████████████████████| 65/65 [00:44<00:00,  1.46it/s]\n",
      "100%|██████████████████████████████████████████████████████████████████████████████████| 25/25 [00:05<00:00,  4.24it/s]\n",
      "100%|██████████████████████████████████████████████████████████████████████████████████| 90/90 [00:31<00:00,  2.84it/s]\n",
      "100%|██████████████████████████████████████████████████████████████████████████████████| 58/58 [00:11<00:00,  4.96it/s]\n"
     ]
    }
   ],
   "source": [
    "dfAll = pd.DataFrame(columns = idCols)\n",
    "\n",
    "for ii, tissuePath in enumerate(maskPaths): # each tissue source\n",
    "    \n",
    "    os.chdir(tissuePath)\n",
    "    \n",
    "    tissueSource = tissuePath.split(os.sep)[-3]\n",
    "    tissueSource = tissueSource.split('_')[-1]\n",
    "    if 'Culture' in tissueSource:\n",
    "        tissueSource = tissueSource.replace('Culture', '')\n",
    "    \n",
    "    if 'BM' in tissueSource:\n",
    "        tissueSource = 'HBM'\n",
    "    if 'UC' in tissueSource:\n",
    "        tissueSource = 'HUC'\n",
    "        \n",
    "    tissueSource = tissueSource.upper() # all caps\n",
    "    \n",
    "    # find all FOVs\n",
    "    fovs = os.listdir()\n",
    "    \n",
    "    # preserve cell count across FOVs.  Start with max of previous\n",
    "    dfSub = dfAll.loc[dfAll['TissueSource'] == tissueSource]\n",
    "    if dfSub.size == 0:\n",
    "        cellCount = 0 # no cells recorded yet\n",
    "        \n",
    "    else:\n",
    "        cellCount = dfSub['CellLabel'].max()\n",
    "    \n",
    "    for jj, fov in enumerate(tqdm(fovs)): # each FOV\n",
    "        \n",
    "        os.chdir(fov)\n",
    "        \n",
    "        # find all cell masks for this FOV\n",
    "        cellFiles = [f for f in os.listdir() if f.endswith('.tif') and 'cell' in f and 'Mask' in f]\n",
    "        if len(cellFiles) == 0: # empty, no cells\n",
    "            os.chdir('..') # go back to main folder\n",
    "            continue # next iter\n",
    "        \n",
    "        # get image dimensions\n",
    "        img = tf.TiffFile(cellFiles[0])\n",
    "        dimY, dimX = img.pages[0].shape\n",
    "        dtype = img.pages[0].dtype\n",
    "        img.close()\n",
    "        \n",
    "        for kk, cellFile in enumerate(cellFiles): # each cell mask TIF\n",
    "            \n",
    "            cellCount += 1\n",
    "            \n",
    "            os.chdir(os.path.join(tissuePath, fov))\n",
    "            img = tf.imread(cellFile)\n",
    "                        \n",
    "            # export \n",
    "            os.chdir(copyPath)\n",
    "            tf.imwrite(tissueSource + '_FOV' + str(fov) + '_cell' + str(cellCount).zfill(3) + '_mask.tif' , \\\n",
    "                       img)\n",
    "            \n",
    "            # update cell count\n",
    "            dfSub = pd.DataFrame()\n",
    "            dfSub['TissueSource'] = tissueSource\n",
    "            dfSub['CellLabel'] = cellCount\n",
    "            dfAll = pd.concat([dfAll, dfSub])\n",
    "        \n",
    "        os.chdir(cwd)\n",
    "        os.chdir(tissuePath) # go back to main folder\n",
    "    "
   ]
  }
 ],
 "metadata": {
  "kernelspec": {
   "display_name": "Python 3 (ipykernel)",
   "language": "python",
   "name": "python3"
  },
  "language_info": {
   "codemirror_mode": {
    "name": "ipython",
    "version": 3
   },
   "file_extension": ".py",
   "mimetype": "text/x-python",
   "name": "python",
   "nbconvert_exporter": "python",
   "pygments_lexer": "ipython3",
   "version": "3.7.11"
  }
 },
 "nbformat": 4,
 "nbformat_minor": 5
}
