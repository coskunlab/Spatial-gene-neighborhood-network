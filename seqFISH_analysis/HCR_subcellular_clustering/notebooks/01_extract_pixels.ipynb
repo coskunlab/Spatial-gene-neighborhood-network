{
 "cells": [
  {
   "cell_type": "code",
   "execution_count": 4,
   "id": "30bf0e77-b91c-4f83-bd67-91c025a28662",
   "metadata": {},
   "outputs": [],
   "source": [
    "import glob\n",
    "import os\n",
    "import sys\n",
    "from itertools import cycle\n",
    "from pathlib import Path, PureWindowsPath\n",
    "\n",
    "import cv2\n",
    "import matplotlib\n",
    "import matplotlib.pyplot as plt\n",
    "import numpy as np\n",
    "import seaborn as sns\n",
    "import tifffile\n",
    "import skimage\n",
    "import pandas as pd\n",
    "from skimage.filters import threshold_li\n",
    "from tqdm.notebook import tqdm, trange\n",
    "from skimage import exposure, io\n",
    "from joblib import Parallel, delayed\n",
    "import napari"
   ]
  },
  {
   "cell_type": "code",
   "execution_count": 5,
   "id": "e48f32f5-6fc9-409e-9fca-3e2e537b408c",
   "metadata": {},
   "outputs": [
    {
     "name": "stdout",
     "output_type": "stream",
     "text": [
      "The autoreload extension is already loaded. To reload it, use:\n",
      "  %reload_ext autoreload\n"
     ]
    }
   ],
   "source": [
    "%load_ext autoreload\n",
    "%autoreload 2"
   ]
  },
  {
   "cell_type": "code",
   "execution_count": 6,
   "id": "6465972e-67ae-4401-931a-89434308bfa8",
   "metadata": {},
   "outputs": [],
   "source": [
    "data_dir = r'Y:\\coskun-lab\\Zhou\\4_HCR\\2D_analyses_pipelines\\subcellular_clustering'"
   ]
  },
  {
   "cell_type": "markdown",
   "id": "55728e96-d5a0-4e0f-aa29-0fe259f2be30",
   "metadata": {
    "tags": []
   },
   "source": [
    "# Extract data directory info"
   ]
  },
  {
   "cell_type": "code",
   "execution_count": 34,
   "id": "5482c979-19ed-46ca-912f-0cdf98c8daf1",
   "metadata": {},
   "outputs": [],
   "source": [
    "def get_info(img_folder):\n",
    "    \"\"\"Function returns the info from folder containing multi-cycle staigning on cell\n",
    "\n",
    "    Args:\n",
    "        img_folder (str) : imgage folder path to get information\n",
    "        name_dict (dict) : three level dictionnary mapping cycle -> channel -> marker name\n",
    "\n",
    "    Returns:\n",
    "        pandas dataframe with information\n",
    "    \"\"\"\n",
    "    images_path = []\n",
    "    markers = []\n",
    "    fovs = []\n",
    "    cycles = []\n",
    "    cell_types = []\n",
    "    \n",
    "    # Loop through image folder\n",
    "    for (dirpath, dirnames, filenames) in os.walk(img_folder):\n",
    "        for name in sorted(filenames):\n",
    "            if \"tif\" in name and 'Mask' not in name:\n",
    "                # Get information from image name\n",
    "                marker = name.split('_')[1:4]\n",
    "                path = os.path.join(dirpath, name)\n",
    "                fov = dirpath.split('_')[-1]\n",
    "                cycle = name.split('_')[0][-1]\n",
    "                cell_type = dirpath.split('\\\\')[-1].split('_')[0]\n",
    "\n",
    "                markers.append(marker)\n",
    "                images_path.append(path)\n",
    "                fovs.append(fov)\n",
    "                cycles.append(cycle)\n",
    "                cell_types.append(cell_type)\n",
    "    info = {\n",
    "        \"Marker\": markers,\n",
    "        \"Path\": images_path,\n",
    "        \"FOV\": fovs,\n",
    "        \"Cycle\": cycles,\n",
    "        \"Cell Type\": cell_types\n",
    "    }\n",
    "    df = pd.DataFrame(info)\n",
    "\n",
    "    return df\n",
    "\n",
    "def get_masks_info(img_folder):\n",
    "    \"\"\"Function returns the info from folder containing multi-cycle staigning on cell\n",
    "\n",
    "    Args:\n",
    "        img_folder (str) : imgage folder path to get information\n",
    "        name_dict (dict) : three level dictionnary mapping cycle -> channel -> marker name\n",
    "\n",
    "    Returns:\n",
    "        pandas dataframe with information\n",
    "    \"\"\"\n",
    "    images_path = []\n",
    "    fovs = []\n",
    "    cell_types = []\n",
    "    cell_ids = []\n",
    "    \n",
    "    # Loop through image folder\n",
    "    for (dirpath, dirnames, filenames) in os.walk(img_folder):\n",
    "        for name in sorted(filenames):\n",
    "            if \"tif\" in name and 'Mask' in name:\n",
    "                # Get information from image name\n",
    "                path = os.path.join(dirpath, name)\n",
    "                fov = dirpath.split('_')[-1]\n",
    "                cell_type = dirpath.split('\\\\')[-1].split('_')[0]\n",
    "                cell_id = name.split('_')[0][-1] \n",
    "\n",
    "                images_path.append(path)\n",
    "                fovs.append(fov)\n",
    "                cell_types.append(cell_type)\n",
    "                cell_ids.append(cell_id)\n",
    "    info = {\n",
    "        \"Path\": images_path,\n",
    "        \"FOV\": fovs,\n",
    "        \"Cell Type\": cell_types,\n",
    "        \"Cell Id\": cell_ids\n",
    "    }\n",
    "    df = pd.DataFrame(info)\n",
    "\n",
    "    return df"
   ]
  },
  {
   "cell_type": "code",
   "execution_count": 35,
   "id": "f7c5a7d1-ace2-41cd-ac31-9f5f88f7819e",
   "metadata": {},
   "outputs": [],
   "source": [
    "df = get_info(data_dir)"
   ]
  },
  {
   "cell_type": "code",
   "execution_count": 36,
   "id": "0d3c790a-280c-42c9-ad81-32077aaba247",
   "metadata": {},
   "outputs": [
    {
     "data": {
      "text/html": [
       "<div>\n",
       "<style scoped>\n",
       "    .dataframe tbody tr th:only-of-type {\n",
       "        vertical-align: middle;\n",
       "    }\n",
       "\n",
       "    .dataframe tbody tr th {\n",
       "        vertical-align: top;\n",
       "    }\n",
       "\n",
       "    .dataframe thead th {\n",
       "        text-align: right;\n",
       "    }\n",
       "</style>\n",
       "<table border=\"1\" class=\"dataframe\">\n",
       "  <thead>\n",
       "    <tr style=\"text-align: right;\">\n",
       "      <th></th>\n",
       "      <th>Marker</th>\n",
       "      <th>Path</th>\n",
       "      <th>FOV</th>\n",
       "      <th>Cycle</th>\n",
       "      <th>Cell Type</th>\n",
       "    </tr>\n",
       "  </thead>\n",
       "  <tbody>\n",
       "    <tr>\n",
       "      <th>0</th>\n",
       "      <td>[gapdh, empty, actb]</td>\n",
       "      <td>Y:\\coskun-lab\\Zhou\\4_HCR\\2D_analyses_pipelines...</td>\n",
       "      <td>078</td>\n",
       "      <td>1</td>\n",
       "      <td>bm</td>\n",
       "    </tr>\n",
       "    <tr>\n",
       "      <th>1</th>\n",
       "      <td>[il8, il6, ccl11]</td>\n",
       "      <td>Y:\\coskun-lab\\Zhou\\4_HCR\\2D_analyses_pipelines...</td>\n",
       "      <td>078</td>\n",
       "      <td>2</td>\n",
       "      <td>bm</td>\n",
       "    </tr>\n",
       "    <tr>\n",
       "      <th>2</th>\n",
       "      <td>[empty, col1a1, nanog]</td>\n",
       "      <td>Y:\\coskun-lab\\Zhou\\4_HCR\\2D_analyses_pipelines...</td>\n",
       "      <td>078</td>\n",
       "      <td>3</td>\n",
       "      <td>bm</td>\n",
       "    </tr>\n",
       "    <tr>\n",
       "      <th>3</th>\n",
       "      <td>[sox9, eef2, spp1]</td>\n",
       "      <td>Y:\\coskun-lab\\Zhou\\4_HCR\\2D_analyses_pipelines...</td>\n",
       "      <td>078</td>\n",
       "      <td>4</td>\n",
       "      <td>bm</td>\n",
       "    </tr>\n",
       "    <tr>\n",
       "      <th>4</th>\n",
       "      <td>[empty, runx1, pdl1]</td>\n",
       "      <td>Y:\\coskun-lab\\Zhou\\4_HCR\\2D_analyses_pipelines...</td>\n",
       "      <td>078</td>\n",
       "      <td>5</td>\n",
       "      <td>bm</td>\n",
       "    </tr>\n",
       "  </tbody>\n",
       "</table>\n",
       "</div>"
      ],
      "text/plain": [
       "                   Marker                                               Path  \\\n",
       "0    [gapdh, empty, actb]  Y:\\coskun-lab\\Zhou\\4_HCR\\2D_analyses_pipelines...   \n",
       "1       [il8, il6, ccl11]  Y:\\coskun-lab\\Zhou\\4_HCR\\2D_analyses_pipelines...   \n",
       "2  [empty, col1a1, nanog]  Y:\\coskun-lab\\Zhou\\4_HCR\\2D_analyses_pipelines...   \n",
       "3      [sox9, eef2, spp1]  Y:\\coskun-lab\\Zhou\\4_HCR\\2D_analyses_pipelines...   \n",
       "4    [empty, runx1, pdl1]  Y:\\coskun-lab\\Zhou\\4_HCR\\2D_analyses_pipelines...   \n",
       "\n",
       "   FOV Cycle Cell Type  \n",
       "0  078     1        bm  \n",
       "1  078     2        bm  \n",
       "2  078     3        bm  \n",
       "3  078     4        bm  \n",
       "4  078     5        bm  "
      ]
     },
     "execution_count": 36,
     "metadata": {},
     "output_type": "execute_result"
    }
   ],
   "source": [
    "df.head()"
   ]
  },
  {
   "cell_type": "code",
   "execution_count": 37,
   "id": "ce0eca32-b87d-4dd4-aec7-a23fb9711c14",
   "metadata": {},
   "outputs": [],
   "source": [
    "df_mask = get_masks_info(data_dir)"
   ]
  },
  {
   "cell_type": "code",
   "execution_count": 38,
   "id": "df5bdc75-1b70-4073-98a4-d04d51d808b7",
   "metadata": {},
   "outputs": [
    {
     "data": {
      "text/html": [
       "<div>\n",
       "<style scoped>\n",
       "    .dataframe tbody tr th:only-of-type {\n",
       "        vertical-align: middle;\n",
       "    }\n",
       "\n",
       "    .dataframe tbody tr th {\n",
       "        vertical-align: top;\n",
       "    }\n",
       "\n",
       "    .dataframe thead th {\n",
       "        text-align: right;\n",
       "    }\n",
       "</style>\n",
       "<table border=\"1\" class=\"dataframe\">\n",
       "  <thead>\n",
       "    <tr style=\"text-align: right;\">\n",
       "      <th></th>\n",
       "      <th>Path</th>\n",
       "      <th>FOV</th>\n",
       "      <th>Cell Type</th>\n",
       "      <th>Cell Id</th>\n",
       "    </tr>\n",
       "  </thead>\n",
       "  <tbody>\n",
       "    <tr>\n",
       "      <th>0</th>\n",
       "      <td>Y:\\coskun-lab\\Zhou\\4_HCR\\2D_analyses_pipelines...</td>\n",
       "      <td>078</td>\n",
       "      <td>bm</td>\n",
       "      <td>1</td>\n",
       "    </tr>\n",
       "    <tr>\n",
       "      <th>1</th>\n",
       "      <td>Y:\\coskun-lab\\Zhou\\4_HCR\\2D_analyses_pipelines...</td>\n",
       "      <td>078</td>\n",
       "      <td>bm</td>\n",
       "      <td>2</td>\n",
       "    </tr>\n",
       "    <tr>\n",
       "      <th>2</th>\n",
       "      <td>Y:\\coskun-lab\\Zhou\\4_HCR\\2D_analyses_pipelines...</td>\n",
       "      <td>078</td>\n",
       "      <td>bm</td>\n",
       "      <td>3</td>\n",
       "    </tr>\n",
       "    <tr>\n",
       "      <th>3</th>\n",
       "      <td>Y:\\coskun-lab\\Zhou\\4_HCR\\2D_analyses_pipelines...</td>\n",
       "      <td>081</td>\n",
       "      <td>bm</td>\n",
       "      <td>1</td>\n",
       "    </tr>\n",
       "    <tr>\n",
       "      <th>4</th>\n",
       "      <td>Y:\\coskun-lab\\Zhou\\4_HCR\\2D_analyses_pipelines...</td>\n",
       "      <td>081</td>\n",
       "      <td>bm</td>\n",
       "      <td>2</td>\n",
       "    </tr>\n",
       "  </tbody>\n",
       "</table>\n",
       "</div>"
      ],
      "text/plain": [
       "                                                Path  FOV Cell Type Cell Id\n",
       "0  Y:\\coskun-lab\\Zhou\\4_HCR\\2D_analyses_pipelines...  078        bm       1\n",
       "1  Y:\\coskun-lab\\Zhou\\4_HCR\\2D_analyses_pipelines...  078        bm       2\n",
       "2  Y:\\coskun-lab\\Zhou\\4_HCR\\2D_analyses_pipelines...  078        bm       3\n",
       "3  Y:\\coskun-lab\\Zhou\\4_HCR\\2D_analyses_pipelines...  081        bm       1\n",
       "4  Y:\\coskun-lab\\Zhou\\4_HCR\\2D_analyses_pipelines...  081        bm       2"
      ]
     },
     "execution_count": 38,
     "metadata": {},
     "output_type": "execute_result"
    }
   ],
   "source": [
    "df_mask.head()"
   ]
  },
  {
   "cell_type": "markdown",
   "id": "f0df4f81-c303-4db0-bd94-76e6e2820e2d",
   "metadata": {
    "jp-MarkdownHeadingCollapsed": true,
    "tags": []
   },
   "source": [
    "# Create merged mask"
   ]
  },
  {
   "cell_type": "code",
   "execution_count": null,
   "id": "948a3466-a4a2-4e49-ba58-73d4edee66ea",
   "metadata": {},
   "outputs": [],
   "source": [
    "from joblib import Parallel, delayed\n",
    "\n",
    "def read_img(path):\n",
    "    img = skimage.io.imread(path)\n",
    "    if len(img.shape) > 2:\n",
    "        img = img[0, ...]\n",
    "    return img \n",
    "\n",
    "def joblib_loop(task, pics):\n",
    "    return Parallel(n_jobs=20)(delayed(task)(i) for i in pics)"
   ]
  },
  {
   "cell_type": "code",
   "execution_count": 69,
   "id": "5697c5c0-e09e-4980-991c-15a50a31020e",
   "metadata": {},
   "outputs": [],
   "source": [
    "# group = df_mask.groupby(['Cell Type', 'FOV'])"
   ]
  },
  {
   "cell_type": "code",
   "execution_count": 79,
   "id": "d9c87e25-2f34-4bbe-8c23-c42fd84f514f",
   "metadata": {
    "tags": []
   },
   "outputs": [
    {
     "data": {
      "image/png": "[encoded data removed]",
      "text/plain": [
       "<Figure size 432x288 with 1 Axes>"
      ]
     },
     "metadata": {
      "needs_background": "light"
     },
     "output_type": "display_data"
    },
    {
     "name": "stderr",
     "output_type": "stream",
     "text": [
      "C:\\Users\\thu71\\AppData\\Local\\Temp/ipykernel_8608/2166791643.py:21: UserWarning: \\\\bme-retromaster.ad.gatech.edu\\labs5\\coskun-lab\\Thomas\\HCR_subcellular_clustering\\data\\masks\\bm_078.tiff is a low contrast image\n",
      "  skimage.io.imsave(path, mask)\n"
     ]
    },
    {
     "data": {
      "image/png": "[encoded data removed]",
      "text/plain": [
       "<Figure size 432x288 with 1 Axes>"
      ]
     },
     "metadata": {
      "needs_background": "light"
     },
     "output_type": "display_data"
    },
    {
     "name": "stderr",
     "output_type": "stream",
     "text": [
      "C:\\Users\\thu71\\AppData\\Local\\Temp/ipykernel_8608/2166791643.py:21: UserWarning: \\\\bme-retromaster.ad.gatech.edu\\labs5\\coskun-lab\\Thomas\\HCR_subcellular_clustering\\data\\masks\\bm_081.tiff is a low contrast image\n",
      "  skimage.io.imsave(path, mask)\n"
     ]
    },
    {
     "data": {
      "image/png": "[encoded data removed]",
      "text/plain": [
       "<Figure size 432x288 with 1 Axes>"
      ]
     },
     "metadata": {
      "needs_background": "light"
     },
     "output_type": "display_data"
    },
    {
     "name": "stderr",
     "output_type": "stream",
     "text": [
      "C:\\Users\\thu71\\AppData\\Local\\Temp/ipykernel_8608/2166791643.py:21: UserWarning: \\\\bme-retromaster.ad.gatech.edu\\labs5\\coskun-lab\\Thomas\\HCR_subcellular_clustering\\data\\masks\\hch_003.tiff is a low contrast image\n",
      "  skimage.io.imsave(path, mask)\n"
     ]
    },
    {
     "data": {
      "image/png": "[encoded data removed]",
      "text/plain": [
       "<Figure size 432x288 with 1 Axes>"
      ]
     },
     "metadata": {
      "needs_background": "light"
     },
     "output_type": "display_data"
    },
    {
     "name": "stderr",
     "output_type": "stream",
     "text": [
      "C:\\Users\\thu71\\AppData\\Local\\Temp/ipykernel_8608/2166791643.py:21: UserWarning: \\\\bme-retromaster.ad.gatech.edu\\labs5\\coskun-lab\\Thomas\\HCR_subcellular_clustering\\data\\masks\\hch_010.tiff is a low contrast image\n",
      "  skimage.io.imsave(path, mask)\n"
     ]
    },
    {
     "data": {
      "image/png": "[encoded data removed]",
      "text/plain": [
       "<Figure size 432x288 with 1 Axes>"
      ]
     },
     "metadata": {
      "needs_background": "light"
     },
     "output_type": "display_data"
    },
    {
     "name": "stderr",
     "output_type": "stream",
     "text": [
      "C:\\Users\\thu71\\AppData\\Local\\Temp/ipykernel_8608/2166791643.py:21: UserWarning: \\\\bme-retromaster.ad.gatech.edu\\labs5\\coskun-lab\\Thomas\\HCR_subcellular_clustering\\data\\masks\\uc_023.tiff is a low contrast image\n",
      "  skimage.io.imsave(path, mask)\n"
     ]
    },
    {
     "data": {
      "image/png": "[encoded data removed]",
      "text/plain": [
       "<Figure size 432x288 with 1 Axes>"
      ]
     },
     "metadata": {
      "needs_background": "light"
     },
     "output_type": "display_data"
    },
    {
     "name": "stderr",
     "output_type": "stream",
     "text": [
      "C:\\Users\\thu71\\AppData\\Local\\Temp/ipykernel_8608/2166791643.py:21: UserWarning: \\\\bme-retromaster.ad.gatech.edu\\labs5\\coskun-lab\\Thomas\\HCR_subcellular_clustering\\data\\masks\\uc_035.tiff is a low contrast image\n",
      "  skimage.io.imsave(path, mask)\n"
     ]
    }
   ],
   "source": [
    "# for name, df_group in group:\n",
    "#     paths = df_group.Path.tolist()\n",
    "#     cell_ids = df_group['Cell Id'].tolist()\n",
    "    \n",
    "#     # Read all mask images\n",
    "#     imgs = joblib_loop(read_img, paths)\n",
    "    \n",
    "#     # Define combined mask\n",
    "#     mask = np.zeros(imgs[0].shape, dtype=np.uint8)\n",
    "    \n",
    "#     # Loop per cell mask ID\n",
    "#     for ii, cell_id in enumerate(cell_ids):\n",
    "#         mask = np.where(imgs[ii]>0, int(cell_id), mask)\n",
    "        \n",
    "#     # Plot mask\n",
    "#     plt.imshow(mask)\n",
    "#     plt.show()\n",
    "    \n",
    "#     # Save mask\n",
    "#     path = Path.cwd().parent / 'data' / 'masks' / f'{name[0]}_{name[1]}.tiff'\n",
    "#     skimage.io.imsave(path, mask)\n"
   ]
  },
  {
   "cell_type": "markdown",
   "id": "340d5350-452a-4e77-920f-1fe2bfab9648",
   "metadata": {},
   "source": [
    "# Read pixel level info"
   ]
  },
  {
   "cell_type": "code",
   "execution_count": 132,
   "id": "f5dbffeb-ca67-47dc-8f01-5a03fdf60eaa",
   "metadata": {},
   "outputs": [],
   "source": [
    "from joblib import Parallel, delayed\n",
    "from skimage import exposure, io\n",
    "\n",
    "def contrast_streching(img, n_min=20, n_max=99.9):\n",
    "    if len(img.shape)>2:\n",
    "        img = img[0,...,1:]\n",
    "    p2, p98 = np.percentile(img, (n_min, n_max))\n",
    "    return exposure.rescale_intensity(\n",
    "        img, in_range=(p2, p98), out_range=(0, 1)\n",
    "    )\n",
    "\n",
    "def read_img(path):\n",
    "    return contrast_streching(skimage.io.imread(path))\n",
    "\n",
    "def joblib_loop(task, pics):\n",
    "    return Parallel(n_jobs=20)(delayed(task)(i) for i in pics)"
   ]
  },
  {
   "cell_type": "code",
   "execution_count": 133,
   "id": "4b155888-f8e0-4733-ad54-d9e623cf3605",
   "metadata": {},
   "outputs": [],
   "source": [
    "group = df.groupby(['Cell Type', 'FOV'])"
   ]
  },
  {
   "cell_type": "code",
   "execution_count": 140,
   "id": "6926a96e-bbb2-4b5a-a650-97b779b4a187",
   "metadata": {},
   "outputs": [
    {
     "data": {
      "text/plain": [
       "('bm', '078')"
      ]
     },
     "execution_count": 140,
     "metadata": {},
     "output_type": "execute_result"
    }
   ],
   "source": [
    "name"
   ]
  },
  {
   "cell_type": "code",
   "execution_count": 162,
   "id": "04508396-6bb2-49e4-939f-bf473adf266b",
   "metadata": {},
   "outputs": [],
   "source": [
    "df_appended = []\n",
    "\n",
    "for name, df_group in group:\n",
    "    paths = df_group.Path.tolist()\n",
    "    markers = df_group['Marker'].tolist()\n",
    "    \n",
    "    # Read all mask images\n",
    "    imgs = joblib_loop(read_img, paths)\n",
    "    \n",
    "    # Get imgs and markers flatten\n",
    "    imgs_flatten = []\n",
    "    markers_flatten = []\n",
    "    for ii, marker_list in enumerate(markers):\n",
    "        for jj, marker in enumerate(marker_list):\n",
    "            if marker == 'empty':\n",
    "                continue\n",
    "            img = contrast_streching(imgs[ii][...,jj])\n",
    "            imgs_flatten.append(img)\n",
    "            markers_flatten.append(marker)\n",
    "    \n",
    "    # Get all intensity mask\n",
    "    imgs_stack = np.stack(imgs_flatten)\n",
    "    mask_intensity = (imgs_stack < 0.3).all(0)\n",
    "    \n",
    "    # Get Cell masks\n",
    "    path = Path.cwd().parent / 'data' / 'masks' / f'{name[0]}_{name[1]}.tiff'\n",
    "    mask_cell = skimage.io.imread(path)\n",
    "    \n",
    "    for cell_id in np.unique(mask_cell):\n",
    "        if cell_id == 0:\n",
    "            continue\n",
    "        \n",
    "        # Get combined mask\n",
    "        mask_combined = cv2.bitwise_and(~mask_intensity.astype(int), (mask_cell==cell_id).astype(int))\n",
    "\n",
    "        # Get pixel intensity\n",
    "        rows, cols = np.where(mask_combined)\n",
    "        cell_pixels = imgs_stack[:, rows, cols]\n",
    "\n",
    "        # Create dataframe\n",
    "        df_pixels = pd.DataFrame(cell_pixels.T, columns=markers_flatten)\n",
    "        df_pixels[\"Cell Type\"] = name[0]\n",
    "        df_pixels[\"FOV\"] = name[1]\n",
    "        df_pixels[\"X\"] = rows\n",
    "        df_pixels[\"Y\"] = cols\n",
    "        df_pixels[\"Id\"] = cell_id\n",
    "        df_appended.append(df_pixels)\n"
   ]
  },
  {
   "cell_type": "code",
   "execution_count": 170,
   "id": "0ccea3d2-29fd-4591-9a85-7c1cdb04a664",
   "metadata": {},
   "outputs": [],
   "source": [
    "df_pixels = pd.concat(df_appended, ignore_index=True)"
   ]
  },
  {
   "cell_type": "code",
   "execution_count": 171,
   "id": "a9e03719-f112-4563-be30-0b3edc750b67",
   "metadata": {},
   "outputs": [
    {
     "data": {
      "text/html": [
       "<div>\n",
       "<style scoped>\n",
       "    .dataframe tbody tr th:only-of-type {\n",
       "        vertical-align: middle;\n",
       "    }\n",
       "\n",
       "    .dataframe tbody tr th {\n",
       "        vertical-align: top;\n",
       "    }\n",
       "\n",
       "    .dataframe thead th {\n",
       "        text-align: right;\n",
       "    }\n",
       "</style>\n",
       "<table border=\"1\" class=\"dataframe\">\n",
       "  <thead>\n",
       "    <tr style=\"text-align: right;\">\n",
       "      <th></th>\n",
       "      <th>gapdh</th>\n",
       "      <th>actb</th>\n",
       "      <th>il8</th>\n",
       "      <th>il6</th>\n",
       "      <th>ccl11</th>\n",
       "      <th>col1a1</th>\n",
       "      <th>nanog</th>\n",
       "      <th>sox9</th>\n",
       "      <th>eef2</th>\n",
       "      <th>spp1</th>\n",
       "      <th>...</th>\n",
       "      <th>WGA</th>\n",
       "      <th>Cell Type</th>\n",
       "      <th>FOV</th>\n",
       "      <th>X</th>\n",
       "      <th>Y</th>\n",
       "      <th>Id</th>\n",
       "      <th>col5a2</th>\n",
       "      <th>malat1</th>\n",
       "      <th>cxcr4</th>\n",
       "      <th>mki67</th>\n",
       "    </tr>\n",
       "  </thead>\n",
       "  <tbody>\n",
       "    <tr>\n",
       "      <th>0</th>\n",
       "      <td>0.000000</td>\n",
       "      <td>0.000000</td>\n",
       "      <td>0.000000</td>\n",
       "      <td>0.434159</td>\n",
       "      <td>0.000000</td>\n",
       "      <td>0.000000</td>\n",
       "      <td>0.000000</td>\n",
       "      <td>0.000000</td>\n",
       "      <td>0.002801</td>\n",
       "      <td>0.000000</td>\n",
       "      <td>...</td>\n",
       "      <td>0.007044</td>\n",
       "      <td>bm</td>\n",
       "      <td>078</td>\n",
       "      <td>153</td>\n",
       "      <td>664</td>\n",
       "      <td>1</td>\n",
       "      <td>NaN</td>\n",
       "      <td>NaN</td>\n",
       "      <td>NaN</td>\n",
       "      <td>NaN</td>\n",
       "    </tr>\n",
       "    <tr>\n",
       "      <th>1</th>\n",
       "      <td>0.007665</td>\n",
       "      <td>0.000000</td>\n",
       "      <td>0.259067</td>\n",
       "      <td>0.310300</td>\n",
       "      <td>0.073579</td>\n",
       "      <td>0.005240</td>\n",
       "      <td>0.000000</td>\n",
       "      <td>0.000000</td>\n",
       "      <td>0.000000</td>\n",
       "      <td>0.000000</td>\n",
       "      <td>...</td>\n",
       "      <td>0.014232</td>\n",
       "      <td>bm</td>\n",
       "      <td>078</td>\n",
       "      <td>154</td>\n",
       "      <td>661</td>\n",
       "      <td>1</td>\n",
       "      <td>NaN</td>\n",
       "      <td>NaN</td>\n",
       "      <td>NaN</td>\n",
       "      <td>NaN</td>\n",
       "    </tr>\n",
       "    <tr>\n",
       "      <th>2</th>\n",
       "      <td>0.006676</td>\n",
       "      <td>0.001078</td>\n",
       "      <td>0.413027</td>\n",
       "      <td>0.017601</td>\n",
       "      <td>0.000000</td>\n",
       "      <td>0.017420</td>\n",
       "      <td>0.000000</td>\n",
       "      <td>0.007618</td>\n",
       "      <td>0.005155</td>\n",
       "      <td>0.009117</td>\n",
       "      <td>...</td>\n",
       "      <td>0.022714</td>\n",
       "      <td>bm</td>\n",
       "      <td>078</td>\n",
       "      <td>155</td>\n",
       "      <td>657</td>\n",
       "      <td>1</td>\n",
       "      <td>NaN</td>\n",
       "      <td>NaN</td>\n",
       "      <td>NaN</td>\n",
       "      <td>NaN</td>\n",
       "    </tr>\n",
       "    <tr>\n",
       "      <th>3</th>\n",
       "      <td>0.022748</td>\n",
       "      <td>0.002561</td>\n",
       "      <td>0.405625</td>\n",
       "      <td>0.089961</td>\n",
       "      <td>0.000000</td>\n",
       "      <td>0.000000</td>\n",
       "      <td>0.000000</td>\n",
       "      <td>0.002918</td>\n",
       "      <td>0.000000</td>\n",
       "      <td>0.000000</td>\n",
       "      <td>...</td>\n",
       "      <td>0.009919</td>\n",
       "      <td>bm</td>\n",
       "      <td>078</td>\n",
       "      <td>156</td>\n",
       "      <td>663</td>\n",
       "      <td>1</td>\n",
       "      <td>NaN</td>\n",
       "      <td>NaN</td>\n",
       "      <td>NaN</td>\n",
       "      <td>NaN</td>\n",
       "    </tr>\n",
       "    <tr>\n",
       "      <th>4</th>\n",
       "      <td>0.041292</td>\n",
       "      <td>0.000000</td>\n",
       "      <td>0.345670</td>\n",
       "      <td>0.000000</td>\n",
       "      <td>0.000000</td>\n",
       "      <td>0.006090</td>\n",
       "      <td>0.000000</td>\n",
       "      <td>0.000000</td>\n",
       "      <td>0.001345</td>\n",
       "      <td>0.000000</td>\n",
       "      <td>...</td>\n",
       "      <td>0.010782</td>\n",
       "      <td>bm</td>\n",
       "      <td>078</td>\n",
       "      <td>157</td>\n",
       "      <td>662</td>\n",
       "      <td>1</td>\n",
       "      <td>NaN</td>\n",
       "      <td>NaN</td>\n",
       "      <td>NaN</td>\n",
       "      <td>NaN</td>\n",
       "    </tr>\n",
       "    <tr>\n",
       "      <th>...</th>\n",
       "      <td>...</td>\n",
       "      <td>...</td>\n",
       "      <td>...</td>\n",
       "      <td>...</td>\n",
       "      <td>...</td>\n",
       "      <td>...</td>\n",
       "      <td>...</td>\n",
       "      <td>...</td>\n",
       "      <td>...</td>\n",
       "      <td>...</td>\n",
       "      <td>...</td>\n",
       "      <td>...</td>\n",
       "      <td>...</td>\n",
       "      <td>...</td>\n",
       "      <td>...</td>\n",
       "      <td>...</td>\n",
       "      <td>...</td>\n",
       "      <td>...</td>\n",
       "      <td>...</td>\n",
       "      <td>...</td>\n",
       "      <td>...</td>\n",
       "    </tr>\n",
       "    <tr>\n",
       "      <th>3787119</th>\n",
       "      <td>0.039299</td>\n",
       "      <td>0.006544</td>\n",
       "      <td>0.097046</td>\n",
       "      <td>0.040503</td>\n",
       "      <td>0.000000</td>\n",
       "      <td>0.010634</td>\n",
       "      <td>0.315862</td>\n",
       "      <td>0.005411</td>\n",
       "      <td>0.000000</td>\n",
       "      <td>0.041063</td>\n",
       "      <td>...</td>\n",
       "      <td>0.000000</td>\n",
       "      <td>uc</td>\n",
       "      <td>035</td>\n",
       "      <td>1578</td>\n",
       "      <td>1299</td>\n",
       "      <td>1</td>\n",
       "      <td>NaN</td>\n",
       "      <td>NaN</td>\n",
       "      <td>NaN</td>\n",
       "      <td>NaN</td>\n",
       "    </tr>\n",
       "    <tr>\n",
       "      <th>3787120</th>\n",
       "      <td>0.050249</td>\n",
       "      <td>0.000000</td>\n",
       "      <td>0.314346</td>\n",
       "      <td>0.000000</td>\n",
       "      <td>0.051908</td>\n",
       "      <td>0.004908</td>\n",
       "      <td>0.499310</td>\n",
       "      <td>0.038859</td>\n",
       "      <td>0.012443</td>\n",
       "      <td>0.013688</td>\n",
       "      <td>...</td>\n",
       "      <td>0.003444</td>\n",
       "      <td>uc</td>\n",
       "      <td>035</td>\n",
       "      <td>1580</td>\n",
       "      <td>1299</td>\n",
       "      <td>1</td>\n",
       "      <td>NaN</td>\n",
       "      <td>NaN</td>\n",
       "      <td>NaN</td>\n",
       "      <td>NaN</td>\n",
       "    </tr>\n",
       "    <tr>\n",
       "      <th>3787121</th>\n",
       "      <td>0.026159</td>\n",
       "      <td>0.002045</td>\n",
       "      <td>0.124473</td>\n",
       "      <td>0.000000</td>\n",
       "      <td>0.025482</td>\n",
       "      <td>0.006135</td>\n",
       "      <td>0.336552</td>\n",
       "      <td>0.030497</td>\n",
       "      <td>0.000000</td>\n",
       "      <td>0.004026</td>\n",
       "      <td>...</td>\n",
       "      <td>0.000000</td>\n",
       "      <td>uc</td>\n",
       "      <td>035</td>\n",
       "      <td>1581</td>\n",
       "      <td>1294</td>\n",
       "      <td>1</td>\n",
       "      <td>NaN</td>\n",
       "      <td>NaN</td>\n",
       "      <td>NaN</td>\n",
       "      <td>NaN</td>\n",
       "    </tr>\n",
       "    <tr>\n",
       "      <th>3787122</th>\n",
       "      <td>0.014600</td>\n",
       "      <td>0.013906</td>\n",
       "      <td>0.075949</td>\n",
       "      <td>0.000000</td>\n",
       "      <td>0.070784</td>\n",
       "      <td>0.006544</td>\n",
       "      <td>0.322759</td>\n",
       "      <td>0.023119</td>\n",
       "      <td>0.000000</td>\n",
       "      <td>0.012077</td>\n",
       "      <td>...</td>\n",
       "      <td>0.000000</td>\n",
       "      <td>uc</td>\n",
       "      <td>035</td>\n",
       "      <td>1581</td>\n",
       "      <td>1297</td>\n",
       "      <td>1</td>\n",
       "      <td>NaN</td>\n",
       "      <td>NaN</td>\n",
       "      <td>NaN</td>\n",
       "      <td>NaN</td>\n",
       "    </tr>\n",
       "    <tr>\n",
       "      <th>3787123</th>\n",
       "      <td>0.020684</td>\n",
       "      <td>0.000000</td>\n",
       "      <td>0.166667</td>\n",
       "      <td>0.018855</td>\n",
       "      <td>0.017932</td>\n",
       "      <td>0.007771</td>\n",
       "      <td>0.332414</td>\n",
       "      <td>0.014757</td>\n",
       "      <td>0.003274</td>\n",
       "      <td>0.029791</td>\n",
       "      <td>...</td>\n",
       "      <td>0.000000</td>\n",
       "      <td>uc</td>\n",
       "      <td>035</td>\n",
       "      <td>1584</td>\n",
       "      <td>1297</td>\n",
       "      <td>1</td>\n",
       "      <td>NaN</td>\n",
       "      <td>NaN</td>\n",
       "      <td>NaN</td>\n",
       "      <td>NaN</td>\n",
       "    </tr>\n",
       "  </tbody>\n",
       "</table>\n",
       "<p>3787124 rows × 24 columns</p>\n",
       "</div>"
      ],
      "text/plain": [
       "            gapdh      actb       il8       il6     ccl11    col1a1     nanog  \\\n",
       "0        0.000000  0.000000  0.000000  0.434159  0.000000  0.000000  0.000000   \n",
       "1        0.007665  0.000000  0.259067  0.310300  0.073579  0.005240  0.000000   \n",
       "2        0.006676  0.001078  0.413027  0.017601  0.000000  0.017420  0.000000   \n",
       "3        0.022748  0.002561  0.405625  0.089961  0.000000  0.000000  0.000000   \n",
       "4        0.041292  0.000000  0.345670  0.000000  0.000000  0.006090  0.000000   \n",
       "...           ...       ...       ...       ...       ...       ...       ...   \n",
       "3787119  0.039299  0.006544  0.097046  0.040503  0.000000  0.010634  0.315862   \n",
       "3787120  0.050249  0.000000  0.314346  0.000000  0.051908  0.004908  0.499310   \n",
       "3787121  0.026159  0.002045  0.124473  0.000000  0.025482  0.006135  0.336552   \n",
       "3787122  0.014600  0.013906  0.075949  0.000000  0.070784  0.006544  0.322759   \n",
       "3787123  0.020684  0.000000  0.166667  0.018855  0.017932  0.007771  0.332414   \n",
       "\n",
       "             sox9      eef2      spp1  ...       WGA  Cell Type  FOV     X  \\\n",
       "0        0.000000  0.002801  0.000000  ...  0.007044         bm  078   153   \n",
       "1        0.000000  0.000000  0.000000  ...  0.014232         bm  078   154   \n",
       "2        0.007618  0.005155  0.009117  ...  0.022714         bm  078   155   \n",
       "3        0.002918  0.000000  0.000000  ...  0.009919         bm  078   156   \n",
       "4        0.000000  0.001345  0.000000  ...  0.010782         bm  078   157   \n",
       "...           ...       ...       ...  ...       ...        ...  ...   ...   \n",
       "3787119  0.005411  0.000000  0.041063  ...  0.000000         uc  035  1578   \n",
       "3787120  0.038859  0.012443  0.013688  ...  0.003444         uc  035  1580   \n",
       "3787121  0.030497  0.000000  0.004026  ...  0.000000         uc  035  1581   \n",
       "3787122  0.023119  0.000000  0.012077  ...  0.000000         uc  035  1581   \n",
       "3787123  0.014757  0.003274  0.029791  ...  0.000000         uc  035  1584   \n",
       "\n",
       "            Y Id col5a2  malat1  cxcr4  mki67  \n",
       "0         664  1    NaN     NaN    NaN    NaN  \n",
       "1         661  1    NaN     NaN    NaN    NaN  \n",
       "2         657  1    NaN     NaN    NaN    NaN  \n",
       "3         663  1    NaN     NaN    NaN    NaN  \n",
       "4         662  1    NaN     NaN    NaN    NaN  \n",
       "...       ... ..    ...     ...    ...    ...  \n",
       "3787119  1299  1    NaN     NaN    NaN    NaN  \n",
       "3787120  1299  1    NaN     NaN    NaN    NaN  \n",
       "3787121  1294  1    NaN     NaN    NaN    NaN  \n",
       "3787122  1297  1    NaN     NaN    NaN    NaN  \n",
       "3787123  1297  1    NaN     NaN    NaN    NaN  \n",
       "\n",
       "[3787124 rows x 24 columns]"
      ]
     },
     "execution_count": 171,
     "metadata": {},
     "output_type": "execute_result"
    }
   ],
   "source": [
    "df_pixels"
   ]
  },
  {
   "cell_type": "code",
   "execution_count": 173,
   "id": "e6342886-1d64-4255-ad52-554b2f423ff9",
   "metadata": {},
   "outputs": [],
   "source": [
    "path = Path.cwd().parent / 'data' / 'meta' / 'pixels.csv'\n",
    "df_pixels.to_csv(path, index=False)"
   ]
  },
  {
   "cell_type": "code",
   "execution_count": null,
   "id": "96739d4f-4d68-46c4-ae47-891a70ca2e05",
   "metadata": {},
   "outputs": [],
   "source": []
  }
 ],
 "metadata": {
  "kernelspec": {
   "display_name": "Python [conda env:new_codex]",
   "language": "python",
   "name": "conda-env-new_codex-py"
  },
  "language_info": {
   "codemirror_mode": {
    "name": "ipython",
    "version": 3
   },
   "file_extension": ".py",
   "mimetype": "text/x-python",
   "name": "python",
   "nbconvert_exporter": "python",
   "pygments_lexer": "ipython3",
   "version": "3.9.7"
  }
 },
 "nbformat": 4,
 "nbformat_minor": 5
}
