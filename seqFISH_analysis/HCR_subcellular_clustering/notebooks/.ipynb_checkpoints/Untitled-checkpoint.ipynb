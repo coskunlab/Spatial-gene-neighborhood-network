{
 "cells": [
  {
   "cell_type": "code",
   "execution_count": 9,
   "id": "d7274a85-9029-4807-972f-364f72560b81",
   "metadata": {},
   "outputs": [],
   "source": [
    "import glob\n",
    "import os\n",
    "import sys\n",
    "from itertools import cycle\n",
    "from pathlib import Path, PureWindowsPath\n",
    "\n",
    "import cv2\n",
    "import matplotlib\n",
    "import matplotlib.pyplot as plt\n",
    "import numpy as np\n",
    "import seaborn as sns\n",
    "import tifffile\n",
    "import skimage\n",
    "import pandas as pd\n",
    "from skimage.filters import threshold_li\n",
    "from tqdm.notebook import tqdm, trange\n",
    "from skimage import exposure, io\n",
    "from joblib import Parallel, delayed\n",
    "import napari\n",
    "import anndata as ad\n",
    "import scanorama\n",
    "import scanpy as sc\n",
    "from fbpca import pca\n",
    "from geosketch import gs\n",
    "from matplotlib.pyplot import rc_context\n",
    "import h5py \n",
    "\n",
    "sc.settings.verbosity = 3"
   ]
  },
  {
   "cell_type": "code",
   "execution_count": 10,
   "id": "90bc4b55-2556-4eee-ad95-214e1e2533ec",
   "metadata": {},
   "outputs": [
    {
     "name": "stdout",
     "output_type": "stream",
     "text": [
      "The autoreload extension is already loaded. To reload it, use:\n",
      "  %reload_ext autoreload\n"
     ]
    }
   ],
   "source": [
    "%load_ext autoreload\n",
    "%autoreload 2"
   ]
  },
  {
   "cell_type": "code",
   "execution_count": 11,
   "id": "e9bd2356-35ed-4c1a-b389-0f69024377be",
   "metadata": {},
   "outputs": [],
   "source": [
    "directory = Path.cwd().parent / 'data' / 'pixels' "
   ]
  },
  {
   "cell_type": "code",
   "execution_count": 12,
   "id": "0193d9f0-4506-4e0a-ba20-2cc320e9bfaa",
   "metadata": {},
   "outputs": [
    {
     "data": {
      "application/vnd.jupyter.widget-view+json": {
       "model_id": "1ee601e5582b4b45b0761288770ec80d",
       "version_major": 2,
       "version_minor": 0
      },
      "text/plain": [
       "  0%|          | 0/195 [00:00<?, ?it/s]"
      ]
     },
     "metadata": {},
     "output_type": "display_data"
    }
   ],
   "source": [
    "dfs = []\n",
    "for (dirpath, dirnames, filenames) in os.walk(directory):\n",
    "    for name in tqdm(sorted(filenames)):\n",
    "        df = pd.read_csv(os.path.join(dirpath, name))\n",
    "        \n",
    "        cell_type = df.loc[0, 'Cell Type'][-4:-1]\n",
    "        if cell_type == 'C_1' or cell_type == 'C_2':\n",
    "            cell_type = 'HUC'\n",
    "        \n",
    "        df_counts = (\n",
    "            df.groupby(['Id', 'Cluster'])\n",
    "            .size()\n",
    "            .unstack(fill_value=0)\n",
    "        )\n",
    "        df_counts = df_counts.div(df_counts.sum(axis=1), axis=0)\n",
    "        df_counts['Cell Type'] = cell_type\n",
    "        \n",
    "        dfs.append(df_counts)"
   ]
  },
  {
   "cell_type": "code",
   "execution_count": 13,
   "id": "5acbc1f9-0efd-4317-9be4-da2d8ecf366a",
   "metadata": {},
   "outputs": [],
   "source": [
    "df = pd.concat(dfs)"
   ]
  },
  {
   "cell_type": "code",
   "execution_count": 14,
   "id": "6808fe52-be4f-4679-a763-1560dcd01193",
   "metadata": {},
   "outputs": [],
   "source": [
    "df_group = df.groupby('Cell Type').mean()\n",
    "                      "
   ]
  },
  {
   "cell_type": "code",
   "execution_count": 15,
   "id": "52875ddb-03b5-4813-8d91-d91884ed9a6d",
   "metadata": {},
   "outputs": [
    {
     "name": "stderr",
     "output_type": "stream",
     "text": [
      "C:\\Users\\thu71\\.conda\\envs\\thomas-env\\lib\\site-packages\\seaborn\\matrix.py:1214: UserWarning: ``square=True`` ignored in clustermap\n",
      "  warnings.warn(msg)\n"
     ]
    },
    {
     "data": {
      "image/png": "[encoded data removed]",
      "text/plain": [
       "<Figure size 1080x360 with 4 Axes>"
      ]
     },
     "metadata": {
      "needs_background": "light"
     },
     "output_type": "display_data"
    }
   ],
   "source": [
    "from matplotlib.colors import LogNorm\n",
    "\n",
    "sns.set_context('poster', font_scale=1.1)\n",
    "    \n",
    "ax = sns.clustermap(df_group+0.001,  \n",
    "                    dendrogram_ratio=(.2, 0), \n",
    "                    cbar_pos=(.02, .1, .03, .3),\n",
    "                    square=True, \n",
    "                    cmap='bwr', \n",
    "                    col_cluster=False, \n",
    "                    figsize=(15,5), \n",
    "                    yticklabels=True, \n",
    "                    linewidths=.75,\n",
    "                    norm=LogNorm())"
   ]
  },
  {
   "cell_type": "code",
   "execution_count": null,
   "id": "a5966b52-bd33-4680-ba15-62f5c5f7e48a",
   "metadata": {},
   "outputs": [],
   "source": []
  }
 ],
 "metadata": {
  "kernelspec": {
   "display_name": "Python [conda env:.conda-thomas-env] *",
   "language": "python",
   "name": "conda-env-.conda-thomas-env-py"
  },
  "language_info": {
   "codemirror_mode": {
    "name": "ipython",
    "version": 3
   },
   "file_extension": ".py",
   "mimetype": "text/x-python",
   "name": "python",
   "nbconvert_exporter": "python",
   "pygments_lexer": "ipython3",
   "version": "3.9.7"
  }
 },
 "nbformat": 4,
 "nbformat_minor": 5
}
